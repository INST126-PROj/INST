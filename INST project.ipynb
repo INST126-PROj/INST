{
 "cells": [
  {
   "cell_type": "code",
   "execution_count": 34,
   "metadata": {},
   "outputs": [
    {
     "name": "stdout",
     "output_type": "stream",
     "text": [
      "Hello young scholar! Which quiz would you like to take? There is Quiz 1 which focuses on UMD facts and Quiz 2 which focuses on essay and study tips! Which one would you like to take? quiz 1\n",
      "1) What is The Point of Failure at UMD?\n",
      "A. The top of the UMD Chapel\n",
      "B. A borderline grade in a class\n",
      "C. A point where you instantly fail when a professor points at you\n",
      "D. A myth that if you step on a certain spot on South Campus, you won’t graduate in four years.\n",
      "\n",
      "2) What is UMD's mascot?\n",
      "E. Kermit the frog\n",
      "F. Peppa the Pig\n",
      "G. Testudo the Turtle\n",
      "H. The Blazing Bulldogs\n",
      "\n",
      "3) When was UMD origionally established?\n",
      "I. 1945\n",
      "J. 1856\n",
      "K. 1879\n",
      "L. 1923\n",
      "\n",
      "4) Which of the following is an Alumni of UMD?\n",
      "M. Dwayane \"The Rock\" Johnson\n",
      "N. Kanye West\n",
      "O. Leonardo Dicaprio\n",
      "P. Sergey Brin\n",
      "Which option is the answer to Question 1? d\n",
      "Correct!\n",
      "Which option is the answer to Question 2? f\n",
      "Incorrect! The correct answer is G.\n",
      "Which option is the answer to Question 3? g\n",
      "Incorrect! The correct answer is J.\n",
      "Which option is the answer to Question 4? d\n",
      "Incorrect! The correct answer is P.\n",
      "Your total score for Quiz 1 is: 1 out of 4\n"
     ]
    }
   ],
   "source": [
    "user_input=input(\"Hello young scholar! Which quiz would you like to take? There is Quiz 1 which focuses on UMD facts and Quiz 2 which focuses on essay and study tips! Which one would you like to take? \")\n",
    "if user_input == \"Quiz 1\" or user_input == \"quiz 1\":\n",
    "    f = open(\"Quiz1.txt\")\n",
    "    text = f.read()\n",
    "    words = text.split(\"-\")\n",
    "    q1= words[0]\n",
    "    print(q1)\n",
    "score = 0    \n",
    "answer1=input(\"Which option is the answer to Question 1? \")\n",
    "if answer1 == \"D\" or answer1 == \"d\":\n",
    "    score=score+1\n",
    "    print(\"Correct!\")\n",
    "else: \n",
    "    print(\"Incorrect! The correct answer is D.\")\n",
    "    \n",
    "answer2=input(\"Which option is the answer to Question 2? \")\n",
    "if answer2 == \"G\" or answer2 == \"g\":\n",
    "    score=score+1\n",
    "    print(\"Correct!\")\n",
    "else: \n",
    "    print(\"Incorrect! The correct answer is G.\")\n",
    "    \n",
    "answer3=input(\"Which option is the answer to Question 3? \")\n",
    "if answer3 == \"J\" or answer3 == \"j\":\n",
    "    score=score+1\n",
    "    print(\"Correct!\")\n",
    "else: \n",
    "    print(\"Incorrect! The correct answer is J.\")\n",
    "\n",
    "answer4=input(\"Which option is the answer to Question 4? \")\n",
    "if answer4 == \"P\" or answer4 == \"p\":\n",
    "    score=score + 1\n",
    "    print(\"Correct!\")\n",
    "else: \n",
    "    print(\"Incorrect! The correct answer is P.\")\n",
    "\n",
    "print(\"Your total score for Quiz 1 is: %d out of 4\" %score)\n",
    "\n"
   ]
  },
  {
   "cell_type": "code",
   "execution_count": null,
   "metadata": {},
   "outputs": [],
   "source": []
  },
  {
   "cell_type": "code",
   "execution_count": null,
   "metadata": {},
   "outputs": [],
   "source": []
  }
 ],
 "metadata": {
  "kernelspec": {
   "display_name": "Python 3",
   "language": "python",
   "name": "python3"
  },
  "language_info": {
   "codemirror_mode": {
    "name": "ipython",
    "version": 3
   },
   "file_extension": ".py",
   "mimetype": "text/x-python",
   "name": "python",
   "nbconvert_exporter": "python",
   "pygments_lexer": "ipython3",
   "version": "3.7.4"
  }
 },
 "nbformat": 4,
 "nbformat_minor": 2
}
